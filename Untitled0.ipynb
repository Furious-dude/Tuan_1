{
  "nbformat": 4,
  "nbformat_minor": 0,
  "metadata": {
    "colab": {
      "provenance": [],
      "toc_visible": true
    },
    "kernelspec": {
      "name": "python3",
      "display_name": "Python 3"
    },
    "language_info": {
      "name": "python"
    }
  },
  "cells": [
    {
      "cell_type": "code",
      "execution_count": null,
      "metadata": {
        "id": "iuJvR2K1clWk"
      },
      "outputs": [],
      "source": []
    },
    {
      "cell_type": "markdown",
      "source": [
        "Câu 1: Python có thể làm rất nhiều việc. Nó là một ngôn ngữ lập trình đa năng có thể được sử dụng để phát triển ứng dụng web, phân tích dữ liệu, xử lý hình ảnh, trí tuệ nhân tạo, v.v. Python cũng có thư viện phong phú và cộng đồng lớn hỗ trợ, làm cho nó trở thành một trong những ngôn ngữ lập trình phổ biến nhất.\n",
        "\n",
        "Câu 2: Python và ngôn ngữ C++ có những đặc điểm khác nhau:\n",
        "\n",
        "Python là ngôn ngữ dễ đọc, dễ hiểu và có cấu trúc đơn giản, trong khi C++ có cấu trúc phức tạp hơn và cú pháp khó hơn để làm quen.\n",
        "Python là một ngôn ngữ thông dịch, trong khi C++ là một ngôn ngữ biên dịch. Điều này có nghĩa là Python có thể chạy từng dòng lệnh một ngay sau khi được viết, trong khi C++ cần phải được biên dịch trước khi chạy.\n",
        "Python có thư viện phong phú và cộng đồng lớn hỗ trợ, trong khi C++ cung cấp một số thư viện mạnh mẽ và có hiệu suất tối ưu hơn.\n",
        "Python thường được sử dụng để phát triển ứng dụng có tính chất linh hoạt và phát triển nhanh, trong khi C++ thường được sử dụng để phát triển ứng dụng có hiệu suất cao và phức tạp.\n",
        "Câu 3: Python là một ngôn ngữ thông dịch. Khi một mã nguồn Python được chạy, trình thông dịch Python sẽ đọc mã nguồn từng dòng và thực thi nó ngay lập tức. Điều này cho phép người dùng viết và thử nghiệm code Python một cách nhanh chóng và dễ dàng. Python cũng hỗ trợ việc biên dịch các phần mã không thay đổi thành mã bytecode để tăng hiệu suất thực thi trong tương lai.\n"
      ],
      "metadata": {
        "id": "1KPdIe_3dBIK"
      }
    },
    {
      "cell_type": "markdown",
      "source": [],
      "metadata": {
        "id": "u1AZ63X0dS79"
      }
    },
    {
      "cell_type": "code",
      "source": [
        "a = 5\n",
        "b,c,d = 9,' a', 'hello'\n",
        "#cau5\n",
        "print (a, b, b, c, d)\n"
      ],
      "metadata": {
        "colab": {
          "base_uri": "https://localhost:8080/"
        },
        "id": "o6g0JvAhdaON",
        "outputId": "9e641837-8089-4685-e872-59c805beaaa3"
      },
      "execution_count": 2,
      "outputs": [
        {
          "output_type": "stream",
          "name": "stdout",
          "text": [
            "5 9 9  a hello\n"
          ]
        }
      ]
    },
    {
      "cell_type": "markdown",
      "source": [
        "Các toán tử trong Python:\n",
        "\n",
        "Toán tử số học: + (cộng), - (trừ), * (nhân), / (chia), % (chia lấy phần dư), ** (mũ), //(chia lấy phần nguyên).\n",
        "Toán tử so sánh: == (bằng nhau), != (không bằng), > (lớn hơn), < (nhỏ hơn), >= (lớn hơn hoặc bằng), <= (nhỏ hơn hoặc bằng).\n",
        "Toán tử gán: = (gán giá trị), += (cộng và gán), -= (trừ và gán), *= (nhân và gán), /= (chia và gán), v.v.\n",
        "Toán tử logic: and (và), or (hoặc), not (phủ định).\n",
        "Toán tử thành viên: in (thuộc danh sách), not in (không thuộc danh sách)."
      ],
      "metadata": {
        "id": "ZScSyY5deDOH"
      }
    },
    {
      "cell_type": "markdown",
      "source": [
        "Các kiểu dữ liệu trong Python:\n",
        "\n",
        "Kiểu số nguyên (integer): int\n",
        "Kiểu số chấm động (floating point): float\n",
        "Kiểu chuỗi (string): str\n",
        "Kiểu danh sách (list): list\n",
        "Kiểu bộ (tuple): tuple\n",
        "Kiểu từ điển (dictionary): dict\n",
        "Kiểu tập hợp (set): set\n",
        "Kiểu boolean (boolean): bool (chỉ có giá trị True hoặc False)\n",
        "Kiểu None (NoneType): None (đại diện cho giá trị không tồn tại)"
      ],
      "metadata": {
        "id": "ODp7pPe5eFcF"
      }
    },
    {
      "cell_type": "code",
      "source": [],
      "metadata": {
        "id": "ud9WS2mldK5l"
      },
      "execution_count": null,
      "outputs": []
    }
  ]
}